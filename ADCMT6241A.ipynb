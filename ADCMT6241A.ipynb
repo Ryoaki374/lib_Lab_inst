{
 "cells": [
  {
   "cell_type": "code",
   "execution_count": 15,
   "metadata": {},
   "outputs": [],
   "source": [
    "import time\n",
    "import datetime as dt\n",
    "import numpy as np\n",
    "import pyvisa"
   ]
  },
  {
   "cell_type": "code",
   "execution_count": 16,
   "metadata": {},
   "outputs": [
    {
     "name": "stdout",
     "output_type": "stream",
     "text": [
      "resource manager :  Resource Manager of Visa Library at C:\\WINDOWS\\system32\\visa32.dll\n",
      "List of resources: \n",
      " ('ASRL1::INSTR', 'GPIB0::12::INSTR', 'GPIB1::1::INSTR', 'GPIB2::16::INSTR')\n"
     ]
    }
   ],
   "source": [
    "# rm = visa.ResourceManager('C:\\\\Windows\\\\System32\\\\visa32.dll')\n",
    "\n",
    "#save_path = r\"C:/Users/IPMU\\Documents/Python Scripts/devinit/\"\n",
    "save_path = r\"C:/Users/IPMU\\Desktop/2024-gripper-run1/\"\n",
    "\n",
    "# look up instruments\n",
    "rm = pyvisa.ResourceManager()\n",
    "print(\"resource manager : \", rm)\n",
    "rl = rm.list_resources()\n",
    "print(\"List of resources: \\n\", rl)"
   ]
  },
  {
   "cell_type": "code",
   "execution_count": 17,
   "metadata": {},
   "outputs": [
    {
     "name": "stdout",
     "output_type": "stream",
     "text": [
      "Resource[ 1 ]: GPIB0::12::INSTR \n",
      " LSCI,MODEL218S,LSB2EH,041813\n",
      "\n",
      "Resource[ 2 ]: GPIB1::1::INSTR \n",
      " ADC Corp.,6241A,174080154,D01  \n",
      "\n",
      "Resource[ 3 ]: GPIB2::16::INSTR \n",
      " KEITHLEY INSTRUMENTS INC.,MODEL 2700,4096641,B10  /A02  \n",
      "\n"
     ]
    }
   ],
   "source": [
    "for i,name in enumerate(rl):\n",
    "    if \"GPIB\" in name:\n",
    "        my_instrument = rm.open_resource(name)\n",
    "        print(\"Resource[\",i,\"]:\", name, \"\\n\", my_instrument.query(\"*IDN?\"))"
   ]
  },
  {
   "cell_type": "code",
   "execution_count": 18,
   "metadata": {},
   "outputs": [
    {
     "name": "stdout",
     "output_type": "stream",
     "text": [
      "C:/Users/IPMU\\Desktop/2024-gripper-run1/20240501203715_CURRENT_ADCMT6241A.csv\n"
     ]
    }
   ],
   "source": [
    "ADCMT6241A = [rm.open_resource(rl[2])]\n",
    "filename = save_path + dt.datetime.now().strftime(\"%Y%m%d%H%M%S\") + \"_CURRENT_ADCMT6241A.csv\"\n",
    "print(filename)\n",
    "\n",
    "#columnname = ['abstime','reltime','Voltage[V]']\n",
    "current = [0.004]\n",
    "REFRESHRATE = 3600*5  # [sec] for frequency of daq\n",
    "\n",
    "try:\n",
    "    with open(filename, mode=\"a\") as f:\n",
    "        print(\"current\",*current, sep=\", \", file=f)\n",
    "        print(\"Refreshrate\",*REFRESHRATE, sep=\", \", file=f)\n",
    "except:\n",
    "    pass\n"
   ]
  },
  {
   "cell_type": "code",
   "execution_count": 19,
   "metadata": {},
   "outputs": [
    {
     "data": {
      "text/plain": [
       "5"
      ]
     },
     "execution_count": 19,
     "metadata": {},
     "output_type": "execute_result"
    }
   ],
   "source": [
    "\n",
    "\n",
    "ADCMT6241A[0].write('SCH1') \n",
    "ADCMT6241A[0].write('MD0')  # Source mode zero = DC mode\n",
    "ADCMT6241A[0].write(\"SOI {}\".format(current[0])) # Sets current source value\n",
    "ADCMT6241A[0].write(\"OPR\")\n",
    "time.sleep(REFRESHRATE)\n",
    "#time.sleep(2)\n",
    "#ADCMT6241A[0].write(\"SOI 0\")\n",
    "ADCMT6241A[0].write(\"SBY\")"
   ]
  },
  {
   "cell_type": "code",
   "execution_count": null,
   "metadata": {},
   "outputs": [],
   "source": []
  }
 ],
 "metadata": {
  "kernelspec": {
   "display_name": "devinit",
   "language": "python",
   "name": "python3"
  },
  "language_info": {
   "codemirror_mode": {
    "name": "ipython",
    "version": 3
   },
   "file_extension": ".py",
   "mimetype": "text/x-python",
   "name": "python",
   "nbconvert_exporter": "python",
   "pygments_lexer": "ipython3",
   "version": "3.7.16"
  }
 },
 "nbformat": 4,
 "nbformat_minor": 2
}
