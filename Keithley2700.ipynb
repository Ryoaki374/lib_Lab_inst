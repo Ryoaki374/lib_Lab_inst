{
 "cells": [
  {
   "cell_type": "code",
   "execution_count": 4,
   "metadata": {},
   "outputs": [],
   "source": [
    "import time\n",
    "import datetime as dt\n",
    "import numpy as np\n",
    "import pyvisa"
   ]
  },
  {
   "cell_type": "code",
   "execution_count": 5,
   "metadata": {},
   "outputs": [
    {
     "name": "stdout",
     "output_type": "stream",
     "text": [
      "resource manager :  Resource Manager of Visa Library at C:\\WINDOWS\\system32\\visa32.dll\n",
      "List of resources: \n",
      " ('ASRL1::INSTR', 'ASRL3::INSTR', 'GPIB1::12::INSTR', 'GPIB2::16::INSTR', 'GPIB3::2::INSTR')\n"
     ]
    }
   ],
   "source": [
    "# rm = visa.ResourceManager('C:\\\\Windows\\\\System32\\\\visa32.dll')\n",
    "\n",
    "#save_path = r\"C:/Users/IPMU\\Documents/Python Scripts/devinit/\"\n",
    "save_path = r\"C:/Users/IPMU/Desktop/2025-gripper-run3/Keithley2700/\"\n",
    "\n",
    "# look up instruments\n",
    "rm = pyvisa.ResourceManager()\n",
    "print(\"resource manager : \", rm)\n",
    "rl = rm.list_resources()\n",
    "print(\"List of resources: \\n\", rl)"
   ]
  },
  {
   "cell_type": "code",
   "execution_count": 6,
   "metadata": {},
   "outputs": [
    {
     "name": "stdout",
     "output_type": "stream",
     "text": [
      "Resource[ 2 ]: GPIB1::12::INSTR \n",
      " LSCI,MODEL218S,LSB2EH,041813\n",
      "\n",
      "Resource[ 3 ]: GPIB2::16::INSTR \n",
      " KEITHLEY INSTRUMENTS INC.,MODEL 2700,4096641,B10  /A02  \n",
      "\n",
      "Resource[ 4 ]: GPIB3::2::INSTR \n",
      " NF Corporation,WF1948,9182457,Ver1.40\n",
      "\n"
     ]
    }
   ],
   "source": [
    "for i,name in enumerate(rl):\n",
    "    if \"GPIB\" in name:\n",
    "        my_instrument = rm.open_resource(name)\n",
    "        print(\"Resource[\",i,\"]:\", name, \"\\n\", my_instrument.query(\"*IDN?\"))"
   ]
  },
  {
   "cell_type": "code",
   "execution_count": 7,
   "metadata": {},
   "outputs": [
    {
     "name": "stdout",
     "output_type": "stream",
     "text": [
      "C:/Users/IPMU/Desktop/2025-gripper-run3/Keithley2700/20250221110613_MULTIMETER_KT2700.csv\n"
     ]
    }
   ],
   "source": [
    "KT2700 = [rm.open_resource(rl[3])]\n",
    "filename = save_path + dt.datetime.now().strftime(\"%Y%m%d%H%M%S\") + \"_MULTIMETER_KT2700.csv\"\n",
    "print(filename)\n",
    "\n",
    "columnname = ['abstime','reltime','Voltage[V]']\n",
    "columnname = ['reltime','Voltage[V]']\n",
    "\n",
    "try:\n",
    "    with open(filename, mode=\"a\") as f:\n",
    "        print(*columnname, sep=\", \", file=f)\n",
    "except:\n",
    "    pass\n",
    "\n",
    "REFRESHRATE = 0.1  # [sec] for frequency of daq"
   ]
  },
  {
   "cell_type": "code",
   "execution_count": 8,
   "metadata": {},
   "outputs": [],
   "source": [
    "KT2700[0].write('*RST')\n",
    "KT2700[0].write(':INITiate:CONTinuous OFF;:ABORt')\n",
    "KT2700[0].write(':SENSe:VOLTage:DC:RANGe:AUTO ON')\n",
    "KT2700[0].write(':SENSe:FUNCtion \"VOLTage:DC\"')\n",
    "KT2700[0].write(':SENSe:VOLTage:DC:NPLC 0.01') # Use lowest NPLC setting for fastest readings.\n",
    "KT2700[0].write(':SYSTem:AZERo:STATe OFF') #  Disable autozero to increase speed, but may cause drift over time.\n",
    "KT2700[0].write(':SENSe:VOLTage:DC:AVERage:STATe OFF') # Turn off filter for speed.\n",
    "KT2700[0].write(':TRIGger:COUNt 1')\n",
    "KT2700[0].write('READ?')\n",
    "buf_str = KT2700[0].read()\n"
   ]
  },
  {
   "cell_type": "code",
   "execution_count": 5,
   "metadata": {},
   "outputs": [],
   "source": [
    "def getVotage(self):\n",
    "    self.write('READ?')\n",
    "    buf_str = self.read()\n",
    "    buf_str = buf_str.strip()  # 改行文字を削除\n",
    "    buf_str_list = buf_str.split(',')  # カンマで分割\n",
    "    buf_float = float(buf_str_list[0][:-3]) # [:-3] is coresponding to \"VDC\"\n",
    "    return buf_float"
   ]
  },
  {
   "cell_type": "code",
   "execution_count": 10,
   "metadata": {},
   "outputs": [
    {
     "name": "stdout",
     "output_type": "stream",
     "text": [
      "[8.629999999953952e-05, 0.0190714579]\n",
      "[0.1507628999999966, -0.0139528811]\n",
      "[0.28528549999999697, 0.0138909761]\n",
      "[0.427593599999998, 0.00435504876]\n",
      "[0.5622969999999974, 0.00687035918]\n",
      "[0.7063502999999969, 0.002609357]\n",
      "[0.8379707999999972, -0.0121051138]\n",
      "[0.9746555999999984, -0.0603007451]\n",
      "[1.1052378999999988, -0.0132119386]\n",
      "[1.2488310999999968, -0.0305196978]\n",
      "[1.3839687999999981, -0.0247137416]\n",
      "[1.5257359999999984, -0.0297776088]\n",
      "[1.668893899999997, -0.0620865747]\n",
      "[1.8069390999999975, -0.0404432714]\n",
      "[1.9412952999999966, -0.0476714708]\n",
      "[2.090041499999998, -0.0516766869]\n",
      "[2.2371269, -0.0531723313]\n",
      "[2.385258499999999, -0.0440642536]\n",
      "[2.5236326999999967, -0.0508462787]\n",
      "[2.6602917999999995, -0.0587638058]\n",
      "[2.7937908999999976, -0.0442596897]\n",
      "[2.9454284999999985, -0.0240829103]\n",
      "[3.087308099999998, -0.0168455355]\n",
      "[3.2207674999999973, -0.0251289457]\n",
      "[3.3685674999999975, -0.0364690274]\n",
      "[3.5108578999999978, -0.0704525635]\n",
      "[3.644529200000001, -0.0406130254]\n",
      "[3.7818427999999997, -0.0476313271]\n",
      "[3.9177444999999977, -0.0708952919]\n",
      "[4.056676699999997, -0.088699691]\n",
      "[4.199889999999996, -0.0666079223]\n",
      "[4.333887699999998, -0.0360100567]\n",
      "[4.4862903, -0.0326519124]\n",
      "[4.635971699999999, -0.0586296096]\n",
      "[4.773918899999998, -0.0800423697]\n",
      "[4.909609099999997, -0.0385691263]\n",
      "[5.0499684999999985, -0.0428140573]\n",
      "[5.1876060999999964, -0.0396335125]\n",
      "[5.331818900000002, -0.0867349356]\n",
      "[5.467310399999995, -0.0509529486]\n",
      "[5.600058400000002, -0.0596068278]\n",
      "[5.733059599999997, -0.109634168]\n",
      "[5.871900699999998, -0.104529008]\n",
      "[6.0168623, -0.0601410903]\n",
      "[6.1675149000000005, -0.0487106256]\n",
      "[6.3109301, -0.034558177]\n",
      "[6.449683499999999, -0.0285893492]\n",
      "[6.577481200000001, -0.0689924732]\n",
      "[6.718482099999996, -0.0527823642]\n",
      "[6.853461199999998, -0.0958556309]\n"
     ]
    },
    {
     "ename": "KeyboardInterrupt",
     "evalue": "",
     "output_type": "error",
     "traceback": [
      "\u001b[1;31m---------------------------------------------------------------------------\u001b[0m",
      "\u001b[1;31mKeyboardInterrupt\u001b[0m                         Traceback (most recent call last)",
      "\u001b[1;32m~\\AppData\\Local\\Temp\\ipykernel_20420\\3695848447.py\u001b[0m in \u001b[0;36m<module>\u001b[1;34m\u001b[0m\n\u001b[0;32m     10\u001b[0m     \u001b[0marr\u001b[0m \u001b[1;33m=\u001b[0m \u001b[1;33m[\u001b[0m\u001b[0mCurrentRerTime\u001b[0m\u001b[1;33m]\u001b[0m\u001b[1;33m\u001b[0m\u001b[1;33m\u001b[0m\u001b[0m\n\u001b[0;32m     11\u001b[0m \u001b[1;33m\u001b[0m\u001b[0m\n\u001b[1;32m---> 12\u001b[1;33m     \u001b[0mbuf\u001b[0m \u001b[1;33m=\u001b[0m \u001b[0mgetVotage\u001b[0m\u001b[1;33m(\u001b[0m\u001b[0mKT2700\u001b[0m\u001b[1;33m[\u001b[0m\u001b[1;36m0\u001b[0m\u001b[1;33m]\u001b[0m\u001b[1;33m)\u001b[0m\u001b[1;33m\u001b[0m\u001b[1;33m\u001b[0m\u001b[0m\n\u001b[0m\u001b[0;32m     13\u001b[0m     \u001b[0marr\u001b[0m\u001b[1;33m.\u001b[0m\u001b[0mappend\u001b[0m\u001b[1;33m(\u001b[0m\u001b[0mbuf\u001b[0m\u001b[1;33m)\u001b[0m\u001b[1;33m\u001b[0m\u001b[1;33m\u001b[0m\u001b[0m\n\u001b[0;32m     14\u001b[0m \u001b[1;33m\u001b[0m\u001b[0m\n",
      "\u001b[1;32m~\\AppData\\Local\\Temp\\ipykernel_20420\\3224965661.py\u001b[0m in \u001b[0;36mgetVotage\u001b[1;34m(self)\u001b[0m\n\u001b[0;32m      1\u001b[0m \u001b[1;32mdef\u001b[0m \u001b[0mgetVotage\u001b[0m\u001b[1;33m(\u001b[0m\u001b[0mself\u001b[0m\u001b[1;33m)\u001b[0m\u001b[1;33m:\u001b[0m\u001b[1;33m\u001b[0m\u001b[1;33m\u001b[0m\u001b[0m\n\u001b[0;32m      2\u001b[0m     \u001b[0mself\u001b[0m\u001b[1;33m.\u001b[0m\u001b[0mwrite\u001b[0m\u001b[1;33m(\u001b[0m\u001b[1;34m'READ?'\u001b[0m\u001b[1;33m)\u001b[0m\u001b[1;33m\u001b[0m\u001b[1;33m\u001b[0m\u001b[0m\n\u001b[1;32m----> 3\u001b[1;33m     \u001b[0mbuf_str\u001b[0m \u001b[1;33m=\u001b[0m \u001b[0mself\u001b[0m\u001b[1;33m.\u001b[0m\u001b[0mread\u001b[0m\u001b[1;33m(\u001b[0m\u001b[1;33m)\u001b[0m\u001b[1;33m\u001b[0m\u001b[1;33m\u001b[0m\u001b[0m\n\u001b[0m\u001b[0;32m      4\u001b[0m     \u001b[0mbuf_str\u001b[0m \u001b[1;33m=\u001b[0m \u001b[0mbuf_str\u001b[0m\u001b[1;33m.\u001b[0m\u001b[0mstrip\u001b[0m\u001b[1;33m(\u001b[0m\u001b[1;33m)\u001b[0m  \u001b[1;31m# 改行文字を削除\u001b[0m\u001b[1;33m\u001b[0m\u001b[1;33m\u001b[0m\u001b[0m\n\u001b[0;32m      5\u001b[0m     \u001b[0mbuf_str_list\u001b[0m \u001b[1;33m=\u001b[0m \u001b[0mbuf_str\u001b[0m\u001b[1;33m.\u001b[0m\u001b[0msplit\u001b[0m\u001b[1;33m(\u001b[0m\u001b[1;34m','\u001b[0m\u001b[1;33m)\u001b[0m  \u001b[1;31m# カンマで分割\u001b[0m\u001b[1;33m\u001b[0m\u001b[1;33m\u001b[0m\u001b[0m\n",
      "\u001b[1;32mc:\\Users\\IPMU\\anaconda3\\envs\\devinit\\lib\\site-packages\\pyvisa\\resources\\messagebased.py\u001b[0m in \u001b[0;36mread\u001b[1;34m(self, termination, encoding)\u001b[0m\n\u001b[0;32m    484\u001b[0m         \u001b[1;32mif\u001b[0m \u001b[0mtermination\u001b[0m \u001b[1;32mis\u001b[0m \u001b[1;32mNone\u001b[0m\u001b[1;33m:\u001b[0m\u001b[1;33m\u001b[0m\u001b[1;33m\u001b[0m\u001b[0m\n\u001b[0;32m    485\u001b[0m             \u001b[0mtermination\u001b[0m \u001b[1;33m=\u001b[0m \u001b[0mself\u001b[0m\u001b[1;33m.\u001b[0m\u001b[0m_read_termination\u001b[0m\u001b[1;33m\u001b[0m\u001b[1;33m\u001b[0m\u001b[0m\n\u001b[1;32m--> 486\u001b[1;33m             \u001b[0mmessage\u001b[0m \u001b[1;33m=\u001b[0m \u001b[0mself\u001b[0m\u001b[1;33m.\u001b[0m\u001b[0m_read_raw\u001b[0m\u001b[1;33m(\u001b[0m\u001b[1;33m)\u001b[0m\u001b[1;33m.\u001b[0m\u001b[0mdecode\u001b[0m\u001b[1;33m(\u001b[0m\u001b[0menco\u001b[0m\u001b[1;33m)\u001b[0m\u001b[1;33m\u001b[0m\u001b[1;33m\u001b[0m\u001b[0m\n\u001b[0m\u001b[0;32m    487\u001b[0m         \u001b[1;32melse\u001b[0m\u001b[1;33m:\u001b[0m\u001b[1;33m\u001b[0m\u001b[1;33m\u001b[0m\u001b[0m\n\u001b[0;32m    488\u001b[0m             \u001b[1;32mwith\u001b[0m \u001b[0mself\u001b[0m\u001b[1;33m.\u001b[0m\u001b[0mread_termination_context\u001b[0m\u001b[1;33m(\u001b[0m\u001b[0mtermination\u001b[0m\u001b[1;33m)\u001b[0m\u001b[1;33m:\u001b[0m\u001b[1;33m\u001b[0m\u001b[1;33m\u001b[0m\u001b[0m\n",
      "\u001b[1;32mc:\\Users\\IPMU\\anaconda3\\envs\\devinit\\lib\\site-packages\\pyvisa\\resources\\messagebased.py\u001b[0m in \u001b[0;36m_read_raw\u001b[1;34m(self, size)\u001b[0m\n\u001b[0;32m    440\u001b[0m                         \u001b[0mstatus\u001b[0m\u001b[1;33m,\u001b[0m\u001b[1;33m\u001b[0m\u001b[1;33m\u001b[0m\u001b[0m\n\u001b[0;32m    441\u001b[0m                     )\n\u001b[1;32m--> 442\u001b[1;33m                     \u001b[0mchunk\u001b[0m\u001b[1;33m,\u001b[0m \u001b[0mstatus\u001b[0m \u001b[1;33m=\u001b[0m \u001b[0mself\u001b[0m\u001b[1;33m.\u001b[0m\u001b[0mvisalib\u001b[0m\u001b[1;33m.\u001b[0m\u001b[0mread\u001b[0m\u001b[1;33m(\u001b[0m\u001b[0mself\u001b[0m\u001b[1;33m.\u001b[0m\u001b[0msession\u001b[0m\u001b[1;33m,\u001b[0m \u001b[0msize\u001b[0m\u001b[1;33m)\u001b[0m\u001b[1;33m\u001b[0m\u001b[1;33m\u001b[0m\u001b[0m\n\u001b[0m\u001b[0;32m    443\u001b[0m                     \u001b[0mret\u001b[0m\u001b[1;33m.\u001b[0m\u001b[0mextend\u001b[0m\u001b[1;33m(\u001b[0m\u001b[0mchunk\u001b[0m\u001b[1;33m)\u001b[0m\u001b[1;33m\u001b[0m\u001b[1;33m\u001b[0m\u001b[0m\n\u001b[0;32m    444\u001b[0m             \u001b[1;32mexcept\u001b[0m \u001b[0merrors\u001b[0m\u001b[1;33m.\u001b[0m\u001b[0mVisaIOError\u001b[0m \u001b[1;32mas\u001b[0m \u001b[0me\u001b[0m\u001b[1;33m:\u001b[0m\u001b[1;33m\u001b[0m\u001b[1;33m\u001b[0m\u001b[0m\n",
      "\u001b[1;32mc:\\Users\\IPMU\\anaconda3\\envs\\devinit\\lib\\site-packages\\pyvisa\\ctwrapper\\functions.py\u001b[0m in \u001b[0;36mread\u001b[1;34m(library, session, count)\u001b[0m\n\u001b[0;32m   2335\u001b[0m     \u001b[0mbuffer\u001b[0m \u001b[1;33m=\u001b[0m \u001b[0mcreate_string_buffer\u001b[0m\u001b[1;33m(\u001b[0m\u001b[0mcount\u001b[0m\u001b[1;33m)\u001b[0m\u001b[1;33m\u001b[0m\u001b[1;33m\u001b[0m\u001b[0m\n\u001b[0;32m   2336\u001b[0m     \u001b[0mreturn_count\u001b[0m \u001b[1;33m=\u001b[0m \u001b[0mViUInt32\u001b[0m\u001b[1;33m(\u001b[0m\u001b[1;33m)\u001b[0m\u001b[1;33m\u001b[0m\u001b[1;33m\u001b[0m\u001b[0m\n\u001b[1;32m-> 2337\u001b[1;33m     \u001b[0mret\u001b[0m \u001b[1;33m=\u001b[0m \u001b[0mlibrary\u001b[0m\u001b[1;33m.\u001b[0m\u001b[0mviRead\u001b[0m\u001b[1;33m(\u001b[0m\u001b[0msession\u001b[0m\u001b[1;33m,\u001b[0m \u001b[0mbuffer\u001b[0m\u001b[1;33m,\u001b[0m \u001b[0mcount\u001b[0m\u001b[1;33m,\u001b[0m \u001b[0mbyref\u001b[0m\u001b[1;33m(\u001b[0m\u001b[0mreturn_count\u001b[0m\u001b[1;33m)\u001b[0m\u001b[1;33m)\u001b[0m\u001b[1;33m\u001b[0m\u001b[1;33m\u001b[0m\u001b[0m\n\u001b[0m\u001b[0;32m   2338\u001b[0m     \u001b[1;32mreturn\u001b[0m \u001b[0mbuffer\u001b[0m\u001b[1;33m.\u001b[0m\u001b[0mraw\u001b[0m\u001b[1;33m[\u001b[0m\u001b[1;33m:\u001b[0m \u001b[0mreturn_count\u001b[0m\u001b[1;33m.\u001b[0m\u001b[0mvalue\u001b[0m\u001b[1;33m]\u001b[0m\u001b[1;33m,\u001b[0m \u001b[0mret\u001b[0m\u001b[1;33m\u001b[0m\u001b[1;33m\u001b[0m\u001b[0m\n\u001b[0;32m   2339\u001b[0m \u001b[1;33m\u001b[0m\u001b[0m\n",
      "\u001b[1;32mc:\\Users\\IPMU\\anaconda3\\envs\\devinit\\lib\\site-packages\\pyvisa\\ctwrapper\\highlevel.py\u001b[0m in \u001b[0;36m_return_handler\u001b[1;34m(self, ret_value, func, arguments)\u001b[0m\n\u001b[0;32m    182\u001b[0m             \u001b[0msetattr\u001b[0m\u001b[1;33m(\u001b[0m\u001b[0mself\u001b[0m\u001b[1;33m,\u001b[0m \u001b[0mmethod_name\u001b[0m\u001b[1;33m,\u001b[0m \u001b[0mgetattr\u001b[0m\u001b[1;33m(\u001b[0m\u001b[0mself\u001b[0m\u001b[1;33m.\u001b[0m\u001b[0mlib\u001b[0m\u001b[1;33m,\u001b[0m \u001b[0mmethod_name\u001b[0m\u001b[1;33m)\u001b[0m\u001b[1;33m)\u001b[0m\u001b[1;33m\u001b[0m\u001b[1;33m\u001b[0m\u001b[0m\n\u001b[0;32m    183\u001b[0m \u001b[1;33m\u001b[0m\u001b[0m\n\u001b[1;32m--> 184\u001b[1;33m     \u001b[1;32mdef\u001b[0m \u001b[0m_return_handler\u001b[0m\u001b[1;33m(\u001b[0m\u001b[0mself\u001b[0m\u001b[1;33m,\u001b[0m \u001b[0mret_value\u001b[0m\u001b[1;33m:\u001b[0m \u001b[0mint\u001b[0m\u001b[1;33m,\u001b[0m \u001b[0mfunc\u001b[0m\u001b[1;33m:\u001b[0m \u001b[0mCallable\u001b[0m\u001b[1;33m,\u001b[0m \u001b[0marguments\u001b[0m\u001b[1;33m:\u001b[0m \u001b[0mtuple\u001b[0m\u001b[1;33m)\u001b[0m \u001b[1;33m->\u001b[0m \u001b[0mAny\u001b[0m\u001b[1;33m:\u001b[0m\u001b[1;33m\u001b[0m\u001b[1;33m\u001b[0m\u001b[0m\n\u001b[0m\u001b[0;32m    185\u001b[0m         \u001b[1;34m\"\"\"Check return values for errors and warnings.\"\"\"\u001b[0m\u001b[1;33m\u001b[0m\u001b[1;33m\u001b[0m\u001b[0m\n\u001b[0;32m    186\u001b[0m         logger.debug(\n",
      "\u001b[1;31mKeyboardInterrupt\u001b[0m: "
     ]
    }
   ],
   "source": [
    "StarTime = time.perf_counter()\n",
    "\n",
    "while True:\n",
    "\n",
    "    #CurrentAbsTime = dt.datetime.now().strftime(\"%Y-%m-%d %H:%M:%S\")\n",
    "    CurrentRerTime = time.perf_counter() - StarTime\n",
    "    #print(time.perf_counter())\n",
    "    #arr = [CurrentAbsTime, CurrentRerTime]\n",
    "\n",
    "    arr = [CurrentRerTime]\n",
    "    \n",
    "    buf = getVotage(KT2700[0])\n",
    "    arr.append(buf)\n",
    "\n",
    "    print(arr)\n",
    "    time.sleep(REFRESHRATE)\n",
    "\n",
    "    try:\n",
    "        with open(filename, mode=\"a\") as f:\n",
    "            print(*arr, sep=\", \", file=f)\n",
    "\n",
    "    except FileNotFoundError:\n",
    "\n",
    "        print(\"FileNotFoundError... :'-(\")\n",
    "        filename = save_path + dt.datetime.now().strftime(\"%Y%m%d%H%M%S\") + \".csv\"\n",
    "        with open(filename, mode=\"a\") as f:\n",
    "            print(*columnname, sep=\", \", file=f)\n",
    "            print(*arr, sep=\", \", file=f)"
   ]
  },
  {
   "cell_type": "code",
   "execution_count": 2,
   "metadata": {},
   "outputs": [],
   "source": [
    "import lib_KT2700"
   ]
  },
  {
   "cell_type": "code",
   "execution_count": 4,
   "metadata": {},
   "outputs": [
    {
     "name": "stdout",
     "output_type": "stream",
     "text": [
      "resource manager :  Resource Manager of Visa Library at C:\\WINDOWS\\system32\\visa32.dll\n",
      "List of resources: \n",
      " ('ASRL1::INSTR', 'ASRL3::INSTR', 'GPIB1::12::INSTR', 'GPIB2::16::INSTR', 'GPIB3::2::INSTR')\n",
      "Resource[ 2 ]: GPIB1::12::INSTR \n",
      " LSCI,MODEL218S,LSB2EH,041813\n",
      "\n",
      "Resource[ 3 ]: GPIB2::16::INSTR \n",
      " KEITHLEY INSTRUMENTS INC.,MODEL 2700,4096641,B10  /A02  \n",
      "\n",
      "Resource[ 4 ]: GPIB3::2::INSTR \n",
      " NF Corporation,WF1948,9182457,Ver1.40\n",
      "\n"
     ]
    }
   ],
   "source": [
    "rm,rl = lib_KT2700.query()"
   ]
  },
  {
   "cell_type": "code",
   "execution_count": 5,
   "metadata": {},
   "outputs": [
    {
     "name": "stdout",
     "output_type": "stream",
     "text": [
      "Generated filename: C:/Users/IPMU/Desktop/2025-gripper-run3/Keithley2700/20250221111056_MULTIMETER_KT2700.csv\n"
     ]
    }
   ],
   "source": [
    "save_path = save_path = r\"C:/Users/IPMU/Desktop/2025-gripper-run3/Keithley2700/\"\n",
    "columnnames = ['reltime','Voltage[V]']\n",
    "\n",
    "filename = lib_KT2700.create_csv(save_path,columnnames)\n",
    "KT2700 = rm.open_resource(rl[3])"
   ]
  },
  {
   "cell_type": "code",
   "execution_count": 7,
   "metadata": {},
   "outputs": [
    {
     "name": "stdout",
     "output_type": "stream",
     "text": [
      "-9.34909936E-03VDC,+329847.005SECS,+15290280RDNG#\n",
      "\n",
      "KT2700 initialization complete.\n"
     ]
    }
   ],
   "source": [
    "lib_KT2700.initialize(instrument=KT2700)"
   ]
  },
  {
   "cell_type": "code",
   "execution_count": 8,
   "metadata": {},
   "outputs": [
    {
     "name": "stdout",
     "output_type": "stream",
     "text": [
      "[9.999999406318238e-08, -0.0153690632]\n",
      "[0.0669806999999949, -0.00765385246]\n",
      "[0.11639959999999405, -0.0191466659]\n",
      "[0.16201209999999833, -0.0141916806]\n",
      "[0.2069557999999958, -0.0140953343]\n",
      "[0.2496858999999958, -0.0163009912]\n",
      "[0.2952668000000003, -0.0257946067]\n",
      "[0.3475502000000006, -0.0204737317]\n",
      "[0.39493359999999456, -0.0271836072]\n",
      "[0.44508739999999847, -0.0242438782]\n",
      "[0.4954442999999955, -0.0327579677]\n",
      "[0.5458605999999975, -0.027993381]\n",
      "[0.6017043999999956, -0.0329128094]\n",
      "[0.6477223999999993, -0.0320422463]\n",
      "[0.7024822999999998, -0.0378425606]\n",
      "[0.7531807999999955, -0.0344130695]\n",
      "[0.8056173999999956, -0.0368882678]\n",
      "[0.8623826999999977, -0.0434192158]\n",
      "[0.9122666999999964, -0.0394701362]\n",
      "[0.9622335999999976, -0.0466330759]\n",
      "[1.0128580999999954, -0.0441062599]\n",
      "[1.0620064999999954, -0.052514825]\n",
      "[1.1116904000000005, -0.0489832498]\n",
      "[1.1621095999999937, -0.0564386696]\n",
      "[1.2124250999999973, -0.0534610897]\n",
      "[1.2618182000000004, -0.0632139221]\n",
      "[1.3144615999999942, -0.0601686724]\n",
      "[1.3619546999999983, -0.0695556179]\n",
      "[1.4127513999999977, -0.0645180494]\n",
      "[1.4657683999999946, -0.0683593079]\n",
      "[1.5118805999999978, -0.0698400736]\n",
      "[1.557036999999994, -0.079087086]\n",
      "[1.597815599999997, -0.0836176872]\n",
      "[1.6503332999999998, -0.0770718306]\n",
      "[1.6974169999999944, -0.0860286504]\n",
      "[1.7446954999999988, -0.0819648728]\n",
      "[1.7954672999999985, -0.0839858651]\n",
      "[1.846722899999996, -0.0861617029]\n",
      "[1.882218199999997, -0.094885692]\n",
      "[1.9281146999999947, -0.0901635438]\n",
      "[1.9784764999999993, -0.101360433]\n",
      "[2.0250384999999937, -0.0987544805]\n",
      "[2.0651273999999944, -0.104091413]\n",
      "[2.109688499999997, -0.106830418]\n",
      "[2.1464316999999937, -0.110426225]\n",
      "[2.1810814999999977, -0.0123369014]\n",
      "[2.247254699999999, -0.00964043476]\n",
      "[2.3001474, -0.0215897504]\n",
      "[2.3468508999999997, -0.0125170788]\n",
      "[2.400028799999994, -0.0243379325]\n",
      "[2.446074099999997, -0.0165120363]\n",
      "[2.4926749999999984, -0.0187348984]\n",
      "[2.5455381999999958, -0.0220611617]\n",
      "[2.596321699999997, -0.0255480036]\n",
      "[2.645232099999994, -0.0290199351]\n",
      "[2.699536699999996, -0.0382313915]\n",
      "[2.746971699999996, -0.0322120003]\n",
      "[2.789317799999999, -0.034718167]\n",
      "[2.829619699999995, -0.036546465]\n"
     ]
    },
    {
     "ename": "KeyboardInterrupt",
     "evalue": "",
     "output_type": "error",
     "traceback": [
      "\u001b[1;31m---------------------------------------------------------------------------\u001b[0m",
      "\u001b[1;31mKeyboardInterrupt\u001b[0m                         Traceback (most recent call last)",
      "\u001b[1;32m~\\AppData\\Local\\Temp\\ipykernel_13156\\3605779600.py\u001b[0m in \u001b[0;36m<module>\u001b[1;34m\u001b[0m\n\u001b[1;32m----> 1\u001b[1;33m \u001b[0mlib_KT2700\u001b[0m\u001b[1;33m.\u001b[0m\u001b[0mDataAcquisition\u001b[0m\u001b[1;33m(\u001b[0m\u001b[0mfilename\u001b[0m\u001b[1;33m,\u001b[0m\u001b[0msave_path\u001b[0m\u001b[1;33m,\u001b[0m\u001b[0mcolumnnames\u001b[0m\u001b[1;33m,\u001b[0m\u001b[0mrefresh_rate\u001b[0m\u001b[1;33m=\u001b[0m\u001b[1;36m0.01\u001b[0m\u001b[1;33m,\u001b[0m\u001b[0minstrument\u001b[0m\u001b[1;33m=\u001b[0m\u001b[0mKT2700\u001b[0m\u001b[1;33m)\u001b[0m\u001b[1;33m\u001b[0m\u001b[1;33m\u001b[0m\u001b[0m\n\u001b[0m",
      "\u001b[1;32mc:\\Users\\IPMU\\Desktop\\2025-gripper-run3\\lib_KT2700.py\u001b[0m in \u001b[0;36mDataAcquisition\u001b[1;34m(filename, save_path, column_names, refresh_rate, instrument)\u001b[0m\n\u001b[0;32m    136\u001b[0m         \u001b[0mprint\u001b[0m\u001b[1;33m(\u001b[0m\u001b[0mdata_point\u001b[0m\u001b[1;33m)\u001b[0m\u001b[1;33m\u001b[0m\u001b[1;33m\u001b[0m\u001b[0m\n\u001b[0;32m    137\u001b[0m         \u001b[1;31m# Wait for the specified refresh rate before taking the next measurement\u001b[0m\u001b[1;33m\u001b[0m\u001b[1;33m\u001b[0m\u001b[1;33m\u001b[0m\u001b[0m\n\u001b[1;32m--> 138\u001b[1;33m         \u001b[0mtime\u001b[0m\u001b[1;33m.\u001b[0m\u001b[0msleep\u001b[0m\u001b[1;33m(\u001b[0m\u001b[0mrefresh_rate\u001b[0m\u001b[1;33m)\u001b[0m\u001b[1;33m\u001b[0m\u001b[1;33m\u001b[0m\u001b[0m\n\u001b[0m\u001b[0;32m    139\u001b[0m         \u001b[1;31m# Try to append the data point to the CSV file\u001b[0m\u001b[1;33m\u001b[0m\u001b[1;33m\u001b[0m\u001b[1;33m\u001b[0m\u001b[0m\n\u001b[0;32m    140\u001b[0m         \u001b[1;32mtry\u001b[0m\u001b[1;33m:\u001b[0m\u001b[1;33m\u001b[0m\u001b[1;33m\u001b[0m\u001b[0m\n",
      "\u001b[1;31mKeyboardInterrupt\u001b[0m: "
     ]
    }
   ],
   "source": [
    "lib_KT2700.DataAcquisition(filename,save_path,columnnames,refresh_rate=0.01,instrument=KT2700)"
   ]
  },
  {
   "cell_type": "code",
   "execution_count": 6,
   "metadata": {},
   "outputs": [
    {
     "name": "stdout",
     "output_type": "stream",
     "text": [
      "resource manager :  Resource Manager of Visa Library at C:\\WINDOWS\\system32\\visa32.dll\n",
      "List of resources: \n",
      " ('ASRL1::INSTR', 'ASRL3::INSTR', 'GPIB1::12::INSTR', 'GPIB2::16::INSTR', 'GPIB3::2::INSTR')\n",
      "Resource[ 2 ]: GPIB1::12::INSTR \n",
      " LSCI,MODEL218S,LSB2EH,041813\n",
      "\n",
      "Resource[ 3 ]: GPIB2::16::INSTR \n",
      " KEITHLEY INSTRUMENTS INC.,MODEL 2700,4096641,B10  /A02  \n",
      "\n",
      "Resource[ 4 ]: GPIB3::2::INSTR \n",
      " NF Corporation,WF1948,9182457,Ver1.40\n",
      "\n",
      "Generated filename: C:/Users/IPMU/Desktop/2025-gripper-run3/Keithley2700/20250221182413_MULTIMETER_KT2700.csv\n",
      "-9.53769777E-03VDC,+12463.945SECS,+04117RDNG#\n",
      "\n",
      "KT2700 initialization complete.\n"
     ]
    }
   ],
   "source": [
    "import lib_KT2700\n",
    "rm,rl = lib_KT2700.query()\n",
    "\n",
    "save_path = save_path = r\"C:/Users/IPMU/Desktop/2025-gripper-run3/Keithley2700/\"\n",
    "columnnames = ['reltime','Voltage[V]']\n",
    "\n",
    "filename = lib_KT2700.create_csv(save_path,columnnames)\n",
    "KT2700 = rm.open_resource(rl[3])\n",
    "\n",
    "lib_KT2700.initialize(instrument=KT2700)"
   ]
  },
  {
   "cell_type": "code",
   "execution_count": 8,
   "metadata": {},
   "outputs": [
    {
     "ename": "KeyboardInterrupt",
     "evalue": "",
     "output_type": "error",
     "traceback": [
      "\u001b[1;31m---------------------------------------------------------------------------\u001b[0m",
      "\u001b[1;31mKeyboardInterrupt\u001b[0m                         Traceback (most recent call last)",
      "\u001b[1;32m~\\AppData\\Local\\Temp\\ipykernel_1976\\1194276583.py\u001b[0m in \u001b[0;36m<module>\u001b[1;34m\u001b[0m\n\u001b[0;32m     96\u001b[0m     \u001b[1;31m#columnname = [\"Time (s)\", \"Current Phase A\", \"Current Phase B\", \"Voltage Phase A\", \"Voltage Phase B\"]\u001b[0m\u001b[1;33m\u001b[0m\u001b[1;33m\u001b[0m\u001b[1;33m\u001b[0m\u001b[0m\n\u001b[0;32m     97\u001b[0m     \u001b[1;31m# Start continuous data acquisition, passing the time provider as an argument\u001b[0m\u001b[1;33m\u001b[0m\u001b[1;33m\u001b[0m\u001b[1;33m\u001b[0m\u001b[0m\n\u001b[1;32m---> 98\u001b[1;33m     \u001b[0mDataAcquisition\u001b[0m\u001b[1;33m(\u001b[0m\u001b[0mtp\u001b[0m\u001b[1;33m,\u001b[0m \u001b[0msave_path\u001b[0m\u001b[1;33m,\u001b[0m \u001b[0mfilename\u001b[0m\u001b[1;33m,\u001b[0m \u001b[0mcolumnnames\u001b[0m\u001b[1;33m,\u001b[0m \u001b[0msampling_rate\u001b[0m\u001b[1;33m=\u001b[0m\u001b[1;36m1\u001b[0m\u001b[1;33m)\u001b[0m\u001b[1;33m\u001b[0m\u001b[1;33m\u001b[0m\u001b[0m\n\u001b[0m",
      "\u001b[1;32m~\\AppData\\Local\\Temp\\ipykernel_1976\\1194276583.py\u001b[0m in \u001b[0;36mDataAcquisition\u001b[1;34m(tp, save_path, filename, columnname, sampling_rate)\u001b[0m\n\u001b[0;32m     66\u001b[0m                 )\n\u001b[0;32m     67\u001b[0m                 \u001b[1;31m# Read a block of data (number of samples per channel equals sampling_rate)\u001b[0m\u001b[1;33m\u001b[0m\u001b[1;33m\u001b[0m\u001b[1;33m\u001b[0m\u001b[0m\n\u001b[1;32m---> 68\u001b[1;33m                 \u001b[0mdata\u001b[0m \u001b[1;33m=\u001b[0m \u001b[0mnp\u001b[0m\u001b[1;33m.\u001b[0m\u001b[0marray\u001b[0m\u001b[1;33m(\u001b[0m\u001b[0mtask\u001b[0m\u001b[1;33m.\u001b[0m\u001b[0mread\u001b[0m\u001b[1;33m(\u001b[0m\u001b[0mnumber_of_samples_per_channel\u001b[0m\u001b[1;33m=\u001b[0m\u001b[0msampling_rate\u001b[0m\u001b[1;33m)\u001b[0m\u001b[1;33m)\u001b[0m\u001b[1;33m\u001b[0m\u001b[1;33m\u001b[0m\u001b[0m\n\u001b[0m\u001b[0;32m     69\u001b[0m         \u001b[1;32mexcept\u001b[0m \u001b[0mDaqError\u001b[0m \u001b[1;32mas\u001b[0m \u001b[0me\u001b[0m\u001b[1;33m:\u001b[0m\u001b[1;33m\u001b[0m\u001b[1;33m\u001b[0m\u001b[0m\n\u001b[0;32m     70\u001b[0m             \u001b[0mprint\u001b[0m\u001b[1;33m(\u001b[0m\u001b[1;34mf\"Reading Error: {e}\"\u001b[0m\u001b[1;33m)\u001b[0m\u001b[1;33m\u001b[0m\u001b[1;33m\u001b[0m\u001b[0m\n",
      "\u001b[1;32mc:\\Users\\IPMU\\anaconda3\\envs\\devinit\\lib\\site-packages\\nidaqmx\\task.py\u001b[0m in \u001b[0;36mread\u001b[1;34m(self, number_of_samples_per_channel, timeout)\u001b[0m\n\u001b[0;32m    552\u001b[0m                 _, samples_read = self._interpreter.read_analog_f64(\n\u001b[0;32m    553\u001b[0m                     \u001b[0mself\u001b[0m\u001b[1;33m.\u001b[0m\u001b[0m_handle\u001b[0m\u001b[1;33m,\u001b[0m \u001b[0mnumber_of_samples_per_channel\u001b[0m\u001b[1;33m,\u001b[0m \u001b[0mtimeout\u001b[0m\u001b[1;33m,\u001b[0m\u001b[1;33m\u001b[0m\u001b[1;33m\u001b[0m\u001b[0m\n\u001b[1;32m--> 554\u001b[1;33m                     FillMode.GROUP_BY_CHANNEL.value, data)\n\u001b[0m\u001b[0;32m    555\u001b[0m \u001b[1;33m\u001b[0m\u001b[0m\n\u001b[0;32m    556\u001b[0m         elif (read_chan_type == ChannelType.DIGITAL_INPUT or\n",
      "\u001b[1;32mc:\\Users\\IPMU\\anaconda3\\envs\\devinit\\lib\\site-packages\\nidaqmx\\_library_interpreter.py\u001b[0m in \u001b[0;36mread_analog_f64\u001b[1;34m(self, task, num_samps_per_chan, timeout, fill_mode, read_array)\u001b[0m\n\u001b[0;32m   3895\u001b[0m         error_code = cfunc(\n\u001b[0;32m   3896\u001b[0m             \u001b[0mtask\u001b[0m\u001b[1;33m,\u001b[0m \u001b[0mnum_samps_per_chan\u001b[0m\u001b[1;33m,\u001b[0m \u001b[0mtimeout\u001b[0m\u001b[1;33m,\u001b[0m \u001b[0mfill_mode\u001b[0m\u001b[1;33m,\u001b[0m \u001b[0mread_array\u001b[0m\u001b[1;33m,\u001b[0m\u001b[1;33m\u001b[0m\u001b[1;33m\u001b[0m\u001b[0m\n\u001b[1;32m-> 3897\u001b[1;33m             read_array.size, ctypes.byref(samps_per_chan_read), None)\n\u001b[0m\u001b[0;32m   3898\u001b[0m         \u001b[0mself\u001b[0m\u001b[1;33m.\u001b[0m\u001b[0mcheck_for_error\u001b[0m\u001b[1;33m(\u001b[0m\u001b[0merror_code\u001b[0m\u001b[1;33m,\u001b[0m \u001b[0msamps_per_chan_read\u001b[0m\u001b[1;33m=\u001b[0m\u001b[0msamps_per_chan_read\u001b[0m\u001b[1;33m.\u001b[0m\u001b[0mvalue\u001b[0m\u001b[1;33m)\u001b[0m\u001b[1;33m\u001b[0m\u001b[1;33m\u001b[0m\u001b[0m\n\u001b[0;32m   3899\u001b[0m         \u001b[1;32mreturn\u001b[0m \u001b[0mread_array\u001b[0m\u001b[1;33m,\u001b[0m \u001b[0msamps_per_chan_read\u001b[0m\u001b[1;33m.\u001b[0m\u001b[0mvalue\u001b[0m\u001b[1;33m\u001b[0m\u001b[1;33m\u001b[0m\u001b[0m\n",
      "\u001b[1;31mKeyboardInterrupt\u001b[0m: "
     ]
    }
   ],
   "source": [
    "import time\n",
    "import numpy as np\n",
    "import nidaqmx\n",
    "from nidaqmx.constants import AcquisitionType\n",
    "from nidaqmx.errors import DaqError\n",
    "import datetime as dt\n",
    "from itertools import islice\n",
    "def time_provider(sampling_rate=512):\n",
    "    \"\"\"\n",
    "    Generator that yields continuous relative time values (in seconds)\n",
    "    at the specified sampling rate.\n",
    "    Parameters:\n",
    "        sampling_rate (int): Number of samples per second.\n",
    "    Yields:\n",
    "        float: The relative time (in seconds) since the generator started.\n",
    "    \"\"\"\n",
    "    interval = 1.0 / sampling_rate  # Time interval between samples in seconds\n",
    "    start_time = time.perf_counter()  # Record the start time using a high-resolution timer\n",
    "    next_sample_time = start_time\n",
    "    while True:\n",
    "        current_time = time.perf_counter()\n",
    "        # Wait until the next scheduled sample time is reached\n",
    "        if current_time < next_sample_time:\n",
    "            time.sleep(next_sample_time - current_time)\n",
    "        # Yield the elapsed time (relative to start)\n",
    "        yield next_sample_time - start_time\n",
    "        # Update the next sample time for the next iteration\n",
    "        next_sample_time += interval\n",
    "\n",
    "def DataAcquisition(tp, save_path, filename, columnname, sampling_rate=512):\n",
    "    \"\"\"\n",
    "    Continuously reads voltage data from NI-DAQ channels and appends the data to a CSV file.\n",
    "    The function performs the following tasks:\n",
    "      1. Sets up the NI-DAQ task to read voltage data from four channels:\n",
    "         - \"cDAQ1Mod2/ai0\": Current Phase A\n",
    "         - \"cDAQ1Mod2/ai1\": Current Phase B\n",
    "         - \"cDAQ1Mod1/ai0\": Voltage Phase A\n",
    "         - \"cDAQ1Mod1/ai2\": Voltage Phase B\n",
    "      2. Configures the sampling clock for continuous acquisition.\n",
    "      3. Reads a block of data (number of samples per channel equals sampling_rate).\n",
    "      4. Creates a time vector for the current block using the provided time provider.\n",
    "      5. Writes the data (with time information) to a CSV file.\n",
    "         If the file is not found, it creates a new CSV file with a header.\n",
    "    Parameters:\n",
    "        tp (generator): A time provider generator yielding relative time values.\n",
    "        save_path (str): Directory where the CSV file will be saved.\n",
    "        filename (str): The initial file path for saving data.\n",
    "        columnname (list): List of column names for the CSV header.\n",
    "        sampling_rate (int): Number of samples to acquire per second.\n",
    "    \"\"\"\n",
    "    while True:\n",
    "        # Try to read data from NI-DAQ channels\n",
    "        try:\n",
    "            # Create a new NI-DAQ task for each block of acquisition\n",
    "            with nidaqmx.Task() as task:\n",
    "                # Add analog input channels for current and voltage measurements\n",
    "                task.ai_channels.add_ai_voltage_chan(\"cDAQ1Mod2/ai0\")  # Current Phase A\n",
    "                task.ai_channels.add_ai_voltage_chan(\"cDAQ1Mod2/ai1\")  # Current Phase B\n",
    "                task.ai_channels.add_ai_voltage_chan(\"cDAQ1Mod1/ai0\")  # Voltage Phase A\n",
    "                task.ai_channels.add_ai_voltage_chan(\"cDAQ1Mod1/ai2\")  # Voltage Phase B\n",
    "                # Configure the sampling clock for continuous acquisition\n",
    "                task.timing.cfg_samp_clk_timing(\n",
    "                    rate=sampling_rate,\n",
    "                    sample_mode=AcquisitionType.CONTINUOUS,\n",
    "                    samps_per_chan=int(sampling_rate),\n",
    "                )\n",
    "                # Read a block of data (number of samples per channel equals sampling_rate)\n",
    "                data = np.array(task.read(number_of_samples_per_channel=sampling_rate))\n",
    "        except DaqError as e:\n",
    "            print(f\"Reading Error: {e}\")\n",
    "            continue  # Skip this iteration if a reading error occurs\n",
    "        # Generate a time vector for the current block by collecting sampling_rate time points from tp\n",
    "        #timedata = np.array([next(tp) for _ in range(sampling_rate)])\n",
    "        timedata = np.array(list(islice(tp,sampling_rate)))\n",
    "        # Stack the time data and the acquired data vertically.\n",
    "        # Assumes that the data shape aligns with timedata, e.g., one row per channel.\n",
    "        arr = np.vstack([timedata, data])\n",
    "        # Try to append the data block to the CSV file\n",
    "        try:\n",
    "            with open(filename, mode=\"a\") as f:\n",
    "                np.savetxt(f, arr.T, delimiter=\",\")\n",
    "        except FileNotFoundError:\n",
    "            # If the file is not found, create a new file with a header\n",
    "            print(\"FileNotFoundError occurred... Creating a new file.\")\n",
    "            filename = save_path + dt.datetime.now().strftime(\"%Y%m%d%H%M%S\") + \".csv\"\n",
    "            with open(filename, mode=\"a\") as f:\n",
    "                # Write the header line then the data block\n",
    "                print(*columnname, sep=\", \", file=f)\n",
    "                np.savetxt(f, arr.T, delimiter=\",\")\n",
    "if __name__ == '__main__':\n",
    "    # Create a time provider generator instance\n",
    "    SAMPRINGRATE = 1\n",
    "    tp = time_provider(sampling_rate=SAMPRINGRATE)\n",
    "    # Set parameters for the data acquisition\n",
    "    #save_path = \"./data/\"\n",
    "    #filename = \"./data/initial_file.csv\"\n",
    "    #columnname = [\"Time (s)\", \"Current Phase A\", \"Current Phase B\", \"Voltage Phase A\", \"Voltage Phase B\"]\n",
    "    # Start continuous data acquisition, passing the time provider as an argument\n",
    "    DataAcquisition(tp, save_path, filename, columnnames, sampling_rate=SAMPRINGRATE)"
   ]
  },
  {
   "cell_type": "code",
   "execution_count": null,
   "metadata": {},
   "outputs": [],
   "source": []
  }
 ],
 "metadata": {
  "kernelspec": {
   "display_name": "devinit",
   "language": "python",
   "name": "python3"
  },
  "language_info": {
   "codemirror_mode": {
    "name": "ipython",
    "version": 3
   },
   "file_extension": ".py",
   "mimetype": "text/x-python",
   "name": "python",
   "nbconvert_exporter": "python",
   "pygments_lexer": "ipython3",
   "version": "3.7.16"
  }
 },
 "nbformat": 4,
 "nbformat_minor": 2
}
