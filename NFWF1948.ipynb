{
 "cells": [
  {
   "cell_type": "code",
   "execution_count": 1,
   "metadata": {},
   "outputs": [],
   "source": [
    "import time\n",
    "import datetime as dt\n",
    "import pyvisa"
   ]
  },
  {
   "cell_type": "code",
   "execution_count": 2,
   "metadata": {},
   "outputs": [
    {
     "name": "stdout",
     "output_type": "stream",
     "text": [
      "resource manager :  Resource Manager of Visa Library at C:\\WINDOWS\\system32\\visa32.dll\n",
      "List of resources: \n",
      " ('ASRL1::INSTR', 'ASRL3::INSTR', 'GPIB1::12::INSTR', 'GPIB2::16::INSTR', 'GPIB3::2::INSTR')\n"
     ]
    }
   ],
   "source": [
    "# rm = visa.ResourceManager('C:\\\\Windows\\\\System32\\\\visa32.dll')\n",
    "\n",
    "save_path = r\"C:/Users/IPMU/Desktop/2025-gripper-run3/NFWF1948/\"\n",
    "\n",
    "\n",
    "# look up instruments\n",
    "rm = pyvisa.ResourceManager()\n",
    "print(\"resource manager : \", rm)\n",
    "rl = rm.list_resources()\n",
    "print(\"List of resources: \\n\", rl)"
   ]
  },
  {
   "cell_type": "code",
   "execution_count": 3,
   "metadata": {},
   "outputs": [
    {
     "name": "stdout",
     "output_type": "stream",
     "text": [
      "Resource[ 2 ]: GPIB1::12::INSTR \n",
      " LSCI,MODEL218S,LSB2EH,041813\n",
      "\n",
      "Resource[ 3 ]: GPIB2::16::INSTR \n",
      " KEITHLEY INSTRUMENTS INC.,MODEL 2700,4096641,B10  /A02  \n",
      "\n",
      "Resource[ 4 ]: GPIB3::2::INSTR \n",
      " NF Corporation,WF1948,9182457,Ver1.40\n",
      "\n"
     ]
    }
   ],
   "source": [
    "for i,name in enumerate(rl):\n",
    "    if \"GPIB\" in name:\n",
    "        my_instrument = rm.open_resource(name)\n",
    "        print(\"Resource[\",i,\"]:\", name, \"\\n\", my_instrument.query(\"*IDN?\"))"
   ]
  },
  {
   "cell_type": "code",
   "execution_count": 4,
   "metadata": {},
   "outputs": [],
   "source": [
    "NFWF1948 = [rm.open_resource(rl[4])]"
   ]
  },
  {
   "cell_type": "code",
   "execution_count": 5,
   "metadata": {},
   "outputs": [],
   "source": [
    "\n",
    "def Duration(freq):\n",
    "    t = 29*400.*100. / (1.5 * freq)\n",
    "    return t\n",
    "\n",
    "def SignalON(name,CH):\n",
    "    if CH == 1:\n",
    "        name.write(':OUTPut1:STATe ON')\n",
    "        print(\"turn on the CH1\")\n",
    "    elif CH == 2:\n",
    "        name.write(':OUTPut2:STATe ON')\n",
    "        print(\"turn on the CH2\")\n",
    "    else:\n",
    "        print(\"Please select correct ch#\")\n",
    "        \n",
    "def SignalOFF(name,CH):\n",
    "    if CH == 1:\n",
    "        name.write(':OUTPut1:STATe OFF')\n",
    "        print(\"turn off the CH1\")\n",
    "    elif CH == 2:\n",
    "        name.write(':OUTPut2:STATe OFF')\n",
    "        print(\"turn off the CH2\")\n",
    "    else:\n",
    "        print(\"Please select correct ch#\")\n",
    "        \n",
    "def reset(name):\n",
    "    name.write(':OUTPut1:STATe OFF')\n",
    "    name.write(':OUTPut2:STATe OFF')\n",
    "    print('reset all channel')\n",
    "    \n",
    "    \n",
    "def pulse2rot(freq):\n",
    "    print('WF freq. : %d Hz'%freq)\n",
    "    print('Motor Driver freq. : %d Hz'%(freq/100.))\n",
    "    print('Motor Rot. freq. : %f rot/s'%(freq/400./100.))\n",
    "    print('Gripper moving speed : %f mm/s'%(freq/400./100.*1.5))\n",
    "    return [freq,freq/100.,freq/400./100.,freq/400/100*1.5]"
   ]
  },
  {
   "cell_type": "code",
   "execution_count": 6,
   "metadata": {},
   "outputs": [
    {
     "name": "stdout",
     "output_type": "stream",
     "text": [
      "reset all channel\n"
     ]
    }
   ],
   "source": [
    "reset(NFWF1948[0])"
   ]
  },
  {
   "cell_type": "code",
   "execution_count": 7,
   "metadata": {},
   "outputs": [
    {
     "name": "stdout",
     "output_type": "stream",
     "text": [
      "1546.6666666666667\n"
     ]
    }
   ],
   "source": [
    "#Initialize CH1\n",
    "ind_freq = 0\n",
    "freq = [500,1000,1500,2000,3000]\n",
    "DURATIONTIME = Duration(freq[ind_freq])  # [sec] for frequency of daq\n",
    "print(DURATIONTIME)"
   ]
  },
  {
   "cell_type": "code",
   "execution_count": 8,
   "metadata": {},
   "outputs": [
    {
     "data": {
      "text/plain": [
       "32"
      ]
     },
     "execution_count": 8,
     "metadata": {},
     "output_type": "execute_result"
    }
   ],
   "source": [
    "NFWF1948[0].write(':SOURce1:VOLTage:LEVel:IMMediate:AMPLitude 5.0')\n",
    "NFWF1948[0].write(':SOURce1:VOLTage:LEVel:IMMediate:OFFSet 2.5V')\n",
    "NFWF1948[0].write(':SOURce1:FUNCtion:SHAPe SQUare')\n",
    "NFWF1948[0].write(':SOURce1:FUNCtion:SQUare:DCYCle 50PCT')\n",
    "NFWF1948[0].write(':SOURce1:FREQuency:FIXed '+str(freq[ind_freq])+'HZ')"
   ]
  },
  {
   "cell_type": "code",
   "execution_count": 9,
   "metadata": {},
   "outputs": [
    {
     "data": {
      "text/plain": [
       "45"
      ]
     },
     "execution_count": 9,
     "metadata": {},
     "output_type": "execute_result"
    }
   ],
   "source": [
    "#Initialize CH2\n",
    "NFWF1948[0].write(':SOURce2:FUNCtion:SHAPe DC')\n",
    "NFWF1948[0].write(':SOURce2:VOLTage:LEVel:IMMediate:OFFSet 5.0')"
   ]
  },
  {
   "cell_type": "code",
   "execution_count": null,
   "metadata": {},
   "outputs": [
    {
     "name": "stdout",
     "output_type": "stream",
     "text": [
      "turn on the CH2\n",
      "turn on the CH1\n"
     ]
    }
   ],
   "source": [
    "# CCW CW\n",
    "filename = save_path + \"NF1948_\" + dt.datetime.now().strftime(\"%Y%m%d%H%M%S\") + \"_log.txt\"\n",
    "\n",
    "arr_time = []\n",
    "\n",
    "while True:\n",
    "    \n",
    "    arr_time = []\n",
    "    \n",
    "    SignalON(NFWF1948[0],2)\n",
    "    SignalON(NFWF1948[0],1)\n",
    "    arr_time.append(dt.datetime.now().strftime(\"%Y-%m-%d %H:%M:%S\"))\n",
    "    \n",
    "    time.sleep(DURATIONTIME)\n",
    "    \n",
    "    SignalOFF(NFWF1948[0],1)\n",
    "    SignalOFF(NFWF1948[0],2)\n",
    "    arr_time.append(dt.datetime.now().strftime(\"%Y-%m-%d %H:%M:%S\"))\n",
    "    \n",
    "    try:\n",
    "        with open(filename, mode=\"a\") as f:\n",
    "            print(\"-------------------------------------------------\",file=f)\n",
    "            print(arr_time[3],\"turn on\", sep=\", \", file=f)\n",
    "            print(arr_time[4],\"turn off\", sep=\", \", file=f)\n",
    "            print(DURATIONTIME,\"sec CCW rotation\",sep=\" \", file=f)\n",
    "            rotlog = pulse2rot(freq[ind_freq])\n",
    "            print('WF freq. : %d Hz'%rotlog[0], file=f)\n",
    "            print('Motor Driver freq. : %d Hz'%rotlog[1], file=f)\n",
    "            print('Motor Rot freq. : %f rot/s'%rotlog[2], file=f)\n",
    "            print('Gripper moving speed : %f mm/s'%rotlog[3], file=f)\n",
    "    except:\n",
    "        pass\n",
    "    \n",
    "    reset(NFWF1948[0])\n",
    "    arr_time = []\n",
    "    reset(NFWF1948[0])\n",
    "    SignalON(NFWF1948[0],1)\n",
    "    arr_time.append(dt.datetime.now().strftime(\"%Y-%m-%d %H:%M:%S\"))\n",
    "\n",
    "    time.sleep(DURATIONTIME)\n",
    "\n",
    "    SignalOFF(NFWF1948[0],1)\n",
    "    arr_time.append(dt.datetime.now().strftime(\"%Y-%m-%d %H:%M:%S\"))\n",
    "\n",
    "    try:\n",
    "        with open(filename, mode=\"a\") as f:\n",
    "            print(\"-------------------------------------------------\",file=f)\n",
    "            print(arr_time[0],\"turn on\", sep=\", \", file=f)\n",
    "            print(arr_time[1],\"turn off\", sep=\", \", file=f)\n",
    "            print(DURATIONTIME,\"sec CW rotation\",sep=\" \", file=f)\n",
    "            rotlog = pulse2rot(freq[ind_freq])\n",
    "            print('WF freq. : %d Hz'%rotlog[0], file=f)\n",
    "            print('Motor Driver freq. : %d Hz'%rotlog[1], file=f)\n",
    "            print('Motor Rot freq. : %f rot/s'%rotlog[2], file=f)\n",
    "            print('Gripper moving speed : %f mm/s'%rotlog[3], file=f)\n",
    "    except:\n",
    "        pass\n",
    "    "
   ]
  },
  {
   "cell_type": "code",
   "execution_count": null,
   "metadata": {},
   "outputs": [
    {
     "name": "stdout",
     "output_type": "stream",
     "text": [
      "reset all channel\n",
      "turn on the CH1\n",
      "turn off the CH1\n",
      "WF freq. : 1000 Hz\n",
      "Motor Driver freq. : 10 Hz\n",
      "Motor Rot. freq. : 0.025000 rot/s\n",
      "Gripper moving speed : 0.037500 mm/s\n",
      "reset all channel\n",
      "turn on the CH2\n",
      "turn on the CH1\n",
      "turn off the CH1\n",
      "turn off the CH2\n",
      "reset all channel\n",
      "turn on the CH1\n",
      "turn off the CH1\n",
      "WF freq. : 1000 Hz\n",
      "Motor Driver freq. : 10 Hz\n",
      "Motor Rot. freq. : 0.025000 rot/s\n",
      "Gripper moving speed : 0.037500 mm/s\n",
      "reset all channel\n",
      "turn on the CH2\n",
      "turn on the CH1\n",
      "turn off the CH1\n",
      "turn off the CH2\n",
      "reset all channel\n",
      "turn on the CH1\n",
      "turn off the CH1\n",
      "WF freq. : 1000 Hz\n",
      "Motor Driver freq. : 10 Hz\n",
      "Motor Rot. freq. : 0.025000 rot/s\n",
      "Gripper moving speed : 0.037500 mm/s\n",
      "reset all channel\n",
      "turn on the CH2\n",
      "turn on the CH1\n",
      "turn off the CH1\n",
      "turn off the CH2\n",
      "reset all channel\n",
      "turn on the CH1\n",
      "turn off the CH1\n",
      "WF freq. : 1000 Hz\n",
      "Motor Driver freq. : 10 Hz\n",
      "Motor Rot. freq. : 0.025000 rot/s\n",
      "Gripper moving speed : 0.037500 mm/s\n",
      "reset all channel\n",
      "turn on the CH2\n",
      "turn on the CH1\n",
      "turn off the CH1\n",
      "turn off the CH2\n",
      "reset all channel\n",
      "turn on the CH1\n",
      "turn off the CH1\n",
      "WF freq. : 1000 Hz\n",
      "Motor Driver freq. : 10 Hz\n",
      "Motor Rot. freq. : 0.025000 rot/s\n",
      "Gripper moving speed : 0.037500 mm/s\n",
      "reset all channel\n",
      "turn on the CH2\n",
      "turn on the CH1\n",
      "turn off the CH1\n",
      "turn off the CH2\n",
      "reset all channel\n",
      "turn on the CH1\n",
      "turn off the CH1\n",
      "WF freq. : 1000 Hz\n",
      "Motor Driver freq. : 10 Hz\n",
      "Motor Rot. freq. : 0.025000 rot/s\n",
      "Gripper moving speed : 0.037500 mm/s\n",
      "reset all channel\n",
      "turn on the CH2\n",
      "turn on the CH1\n",
      "turn off the CH1\n",
      "turn off the CH2\n",
      "reset all channel\n",
      "turn on the CH1\n"
     ]
    }
   ],
   "source": [
    "# CW CCW プラス方向が先\n",
    "filename = save_path + \"NF1948_\" + dt.datetime.now().strftime(\"%Y%m%d%H%M%S\") + \"_log.txt\"\n",
    "\n",
    "arr_time = []\n",
    "\n",
    "while True:\n",
    "    arr_time = []\n",
    "    reset(NFWF1948[0])\n",
    "    SignalON(NFWF1948[0],1)\n",
    "    arr_time.append(dt.datetime.now().strftime(\"%Y-%m-%d %H:%M:%S\"))\n",
    "\n",
    "    time.sleep(DURATIONTIME)\n",
    "\n",
    "    SignalOFF(NFWF1948[0],1)\n",
    "    arr_time.append(dt.datetime.now().strftime(\"%Y-%m-%d %H:%M:%S\"))\n",
    "\n",
    "    try:\n",
    "        with open(filename, mode=\"a\") as f:\n",
    "            print(\"-------------------------------------------------\",file=f)\n",
    "            print(arr_time[0],\"turn on\", sep=\", \", file=f)\n",
    "            print(arr_time[1],\"turn off\", sep=\", \", file=f)\n",
    "            print(DURATIONTIME,\"sec CW rotation\",sep=\" \", file=f)\n",
    "            rotlog = pulse2rot(freq[ind_freq])\n",
    "            print('WF freq. : %d Hz'%rotlog[0], file=f)\n",
    "            print('Motor Driver freq. : %d Hz'%rotlog[1], file=f)\n",
    "            print('Motor Rot freq. : %f rot/s'%rotlog[2], file=f)\n",
    "            print('Gripper moving speed : %f mm/s'%rotlog[3], file=f)\n",
    "    except:\n",
    "        pass\n",
    "    \n",
    "    reset(NFWF1948[0])\n",
    "    arr_time = []\n",
    "    \n",
    "    SignalON(NFWF1948[0],2)\n",
    "    SignalON(NFWF1948[0],1)\n",
    "    arr_time.append(dt.datetime.now().strftime(\"%Y-%m-%d %H:%M:%S\"))\n",
    "    \n",
    "    time.sleep(DURATIONTIME)\n",
    "    \n",
    "    SignalOFF(NFWF1948[0],1)\n",
    "    SignalOFF(NFWF1948[0],2)\n",
    "    arr_time.append(dt.datetime.now().strftime(\"%Y-%m-%d %H:%M:%S\"))\n",
    "    \n",
    "    try:\n",
    "        with open(filename, mode=\"a\") as f:\n",
    "            print(\"-------------------------------------------------\",file=f)\n",
    "            print(arr_time[3],\"turn on\", sep=\", \", file=f)\n",
    "            print(arr_time[4],\"turn off\", sep=\", \", file=f)\n",
    "            print(DURATIONTIME,\"sec CCW rotation\",sep=\" \", file=f)\n",
    "            rotlog = pulse2rot(freq[ind_freq])\n",
    "            print('WF freq. : %d Hz'%rotlog[0], file=f)\n",
    "            print('Motor Driver freq. : %d Hz'%rotlog[1], file=f)\n",
    "            print('Motor Rot freq. : %f rot/s'%rotlog[2], file=f)\n",
    "            print('Gripper moving speed : %f mm/s'%rotlog[3], file=f)\n",
    "    except:\n",
    "        pass\n",
    "    "
   ]
  },
  {
   "cell_type": "code",
   "execution_count": 9,
   "metadata": {},
   "outputs": [
    {
     "name": "stdout",
     "output_type": "stream",
     "text": [
      "reset all channel\n",
      "turn on the CH1\n",
      "turn off the CH1\n",
      "WF freq. : 1000 Hz\n",
      "Motor Driver freq. : 10 Hz\n",
      "Motor Rot. freq. : 0.025000 rot/s\n",
      "Gripper moving speed : 0.037500 mm/s\n"
     ]
    }
   ],
   "source": [
    "# CW rotation\n",
    "filename = save_path + \"NF1948_\" + dt.datetime.now().strftime(\"%Y%m%d%H%M%S\") + \"_log.txt\"\n",
    "arr_time = []\n",
    "\n",
    "reset(NFWF1948[0])\n",
    "\n",
    "SignalON(NFWF1948[0],1)\n",
    "arr_time.append(dt.datetime.now().strftime(\"%Y-%m-%d %H:%M:%S\"))\n",
    "\n",
    "time.sleep(DURATIONTIME)\n",
    "\n",
    "SignalOFF(NFWF1948[0],1)\n",
    "arr_time.append(dt.datetime.now().strftime(\"%Y-%m-%d %H:%M:%S\"))\n",
    "\n",
    "try:\n",
    "    with open(filename, mode=\"a\") as f:\n",
    "        print(\"-------------------------------------------------\")\n",
    "        print(arr_time[0],\"turn on\", sep=\", \", file=f)\n",
    "        print(arr_time[1],\"turn off\", sep=\", \", file=f)\n",
    "        print(DURATIONTIME,\"sec CW rotation\",sep=\" \", file=f)\n",
    "        rotlog = pulse2rot(freq[ind_freq])\n",
    "        print('WF freq. : %d Hz'%rotlog[0], file=f)\n",
    "        print('Motor Driver freq. : %d Hz'%rotlog[1], file=f)\n",
    "        print('Motor Rot freq. : %f rot/s'%rotlog[2], file=f)\n",
    "        print('Gripper moving speed : %f mm/s'%rotlog[3], file=f)\n",
    "except:\n",
    "    pass\n",
    "\n"
   ]
  },
  {
   "cell_type": "code",
   "execution_count": 10,
   "metadata": {},
   "outputs": [
    {
     "name": "stdout",
     "output_type": "stream",
     "text": [
      "reset all channel\n",
      "turn on the CH2\n",
      "turn on the CH1\n"
     ]
    }
   ],
   "source": [
    "# CCW rotation\n",
    "filename = save_path + \"NF1948_\" + dt.datetime.now().strftime(\"%Y%m%d%H%M%S\") + \"_log.txt\"\n",
    "arr_time = []\n",
    "\n",
    "reset(NFWF1948[0])\n",
    "\n",
    "SignalON(NFWF1948[0],2)\n",
    "SignalON(NFWF1948[0],1)\n",
    "arr_time.append(dt.datetime.now().strftime(\"%Y-%m-%d %H:%M:%S\"))\n",
    "\n",
    "time.sleep(DURATIONTIME)\n",
    "\n",
    "SignalOFF(NFWF1948[0],1)\n",
    "SignalOFF(NFWF1948[0],2)\n",
    "arr_time.append(dt.datetime.now().strftime(\"%Y-%m-%d %H:%M:%S\"))\n",
    "\n",
    "try:\n",
    "    with open(filename, mode=\"a\") as f:\n",
    "        print(\"-------------------------------------------------\")\n",
    "        print(arr_time[0],\"turn on\", sep=\", \", file=f)\n",
    "        print(arr_time[1],\"turn off\", sep=\", \", file=f)\n",
    "        print(DURATIONTIME,\"sec CCW rotation\",sep=\" \", file=f)\n",
    "        rotlog = pulse2rot(freq[ind_freq])\n",
    "        print('WF freq. : %d Hz'%rotlog[0], file=f)\n",
    "        print('Motor Driver freq. : %d Hz'%rotlog[1], file=f)\n",
    "        print('Motor Rot freq. : %f rot/s'%rotlog[2], file=f)\n",
    "        print('Gripper moving speed : %f mm/s'%rotlog[3], file=f)\n",
    "except:\n",
    "    pass\n"
   ]
  },
  {
   "cell_type": "code",
   "execution_count": null,
   "metadata": {},
   "outputs": [],
   "source": []
  }
 ],
 "metadata": {
  "kernelspec": {
   "display_name": "devinit",
   "language": "python",
   "name": "python3"
  },
  "language_info": {
   "codemirror_mode": {
    "name": "ipython",
    "version": 3
   },
   "file_extension": ".py",
   "mimetype": "text/x-python",
   "name": "python",
   "nbconvert_exporter": "python",
   "pygments_lexer": "ipython3",
   "version": "3.7.16"
  }
 },
 "nbformat": 4,
 "nbformat_minor": 2
}
